{
  "nbformat": 4,
  "nbformat_minor": 0,
  "metadata": {
    "colab": {
      "name": "Testing_NLP_With_Wikipedia.ipynb",
      "provenance": [],
      "collapsed_sections": [],
      "include_colab_link": true
    },
    "kernelspec": {
      "name": "python3",
      "display_name": "Python 3"
    }
  },
  "cells": [
    {
      "cell_type": "markdown",
      "metadata": {
        "id": "view-in-github",
        "colab_type": "text"
      },
      "source": [
        "<a href=\"https://colab.research.google.com/github/ShotaroBaba/Alexa_Example_Presentation_Skill/blob/master/Testing_NLP_With_Wikipedia.ipynb\" target=\"_parent\"><img src=\"https://colab.research.google.com/assets/colab-badge.svg\" alt=\"Open In Colab\"/></a>"
      ]
    },
    {
      "cell_type": "code",
      "metadata": {
        "id": "Esrjb-pq2dyC",
        "colab_type": "code",
        "colab": {}
      },
      "source": [
        "# This Notebook demonstrates how NLP and LDA works using Gensim & SpaCy\n",
        "# At first, it downloads 2GB wikipedia data first"
      ],
      "execution_count": 0,
      "outputs": []
    },
    {
      "cell_type": "code",
      "metadata": {
        "id": "EIBtraxU-F7e",
        "colab_type": "code",
        "colab": {}
      },
      "source": [
        "import os\n",
        "import gensim\n",
        "import requests \n",
        "urlToWiki = \"https://dumps.wikimedia.org/enwiki/latest/enwiki-latest-pages-articles-multistream10.xml-p2336425p3046511.bz2\"\n",
        "savedFileName = 'enwiki-latest-pages-articles-multistream10.xml-p2336425p3046511.bz2'\n",
        "if not os.path.isfile(savedFileName):\n",
        "  with open(savedFileName,'wb') as output:\n",
        "    output.write(requests.get(urlToWiki).content)"
      ],
      "execution_count": 0,
      "outputs": []
    },
    {
      "cell_type": "code",
      "metadata": {
        "id": "d0yV-ES7wn_v",
        "colab_type": "code",
        "colab": {}
      },
      "source": [
        "wiki = gensim.corpora.WikiCorpus(savedFileName)"
      ],
      "execution_count": 0,
      "outputs": []
    },
    {
      "cell_type": "code",
      "metadata": {
        "id": "pTUrWgyXZs_s",
        "colab_type": "code",
        "outputId": "08c0d1ca-d60e-4991-c835-90a0a4f0aa21",
        "colab": {
          "base_uri": "https://localhost:8080/",
          "height": 34
        }
      },
      "source": [
        "corpusFileName = \"enwiki-latest-pages-articles-multistream10.xml-p2336425p3046511.corpus\"\n",
        "len(wiki)"
      ],
      "execution_count": 7,
      "outputs": [
        {
          "output_type": "execute_result",
          "data": {
            "text/plain": [
              "113506"
            ]
          },
          "metadata": {
            "tags": []
          },
          "execution_count": 7
        }
      ]
    },
    {
      "cell_type": "code",
      "metadata": {
        "id": "gU4aO_AneiYQ",
        "colab_type": "code",
        "colab": {}
      },
      "source": [
        "from gensim.corpora import Dictionary"
      ],
      "execution_count": 0,
      "outputs": []
    },
    {
      "cell_type": "code",
      "metadata": {
        "id": "5CF26MRTkJZb",
        "colab_type": "code",
        "colab": {}
      },
      "source": [
        "wiki_dict = Dictionary(list(wiki.get_texts()))"
      ],
      "execution_count": 0,
      "outputs": []
    },
    {
      "cell_type": "code",
      "metadata": {
        "id": "5nH4lK3mpBzg",
        "colab_type": "code",
        "colab": {}
      },
      "source": [
        "wiki_corpus = [wiki_dict.doc2bow(x) for x in wiki.get_texts()]"
      ],
      "execution_count": 0,
      "outputs": []
    },
    {
      "cell_type": "code",
      "metadata": {
        "id": "-RSutcD4_3LN",
        "colab_type": "code",
        "colab": {
          "base_uri": "https://localhost:8080/",
          "height": 34
        },
        "outputId": "4b971723-bca1-4710-b2d9-d142defa0c2c"
      },
      "source": [
        "# models.ldamulticore()\n",
        "corpusFileName = \"enwiki-latest-pages-articles-multistream10.xml-p2336425p3046511.gencorpus\"\n",
        "wiki.get_texts()"
      ],
      "execution_count": 14,
      "outputs": [
        {
          "output_type": "execute_result",
          "data": {
            "text/plain": [
              "<generator object WikiCorpus.get_texts at 0x7f3f93331d58>"
            ]
          },
          "metadata": {
            "tags": []
          },
          "execution_count": 14
        }
      ]
    }
  ]
}